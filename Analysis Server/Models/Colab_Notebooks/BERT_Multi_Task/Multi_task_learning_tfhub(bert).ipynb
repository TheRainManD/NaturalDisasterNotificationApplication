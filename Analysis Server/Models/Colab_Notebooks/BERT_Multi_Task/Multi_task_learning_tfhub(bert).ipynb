{
  "nbformat": 4,
  "nbformat_minor": 0,
  "metadata": {
    "colab": {
      "name": "Multi-task-learning_tfhub(bert).ipynb",
      "provenance": [],
      "collapsed_sections": []
    },
    "kernelspec": {
      "name": "python3",
      "display_name": "Python 3"
    },
    "language_info": {
      "name": "python"
    },
    "accelerator": "GPU"
  },
  "cells": [
    {
      "cell_type": "code",
      "metadata": {
        "colab": {
          "resources": {
            "http://localhost:8080/nbextensions/google.colab/files.js": {
              "data": "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",
              "ok": true,
              "headers": [
                [
                  "content-type",
                  "application/javascript"
                ]
              ],
              "status": 200,
              "status_text": ""
            }
          },
          "base_uri": "https://localhost:8080/",
          "height": 55
        },
        "id": "Ao3JaJHwUXx5",
        "outputId": "d5f99570-18c7-4858-fb1f-97c427385c37"
      },
      "source": [
        "from google.colab import files\n",
        "files.upload()"
      ],
      "execution_count": null,
      "outputs": [
        {
          "output_type": "display_data",
          "data": {
            "text/html": [
              "\n",
              "     <input type=\"file\" id=\"files-b91784e0-a279-4c04-b387-1f69002b6b69\" name=\"files[]\" multiple disabled\n",
              "        style=\"border:none\" />\n",
              "     <output id=\"result-b91784e0-a279-4c04-b387-1f69002b6b69\">\n",
              "      Upload widget is only available when the cell has been executed in the\n",
              "      current browser session. Please rerun this cell to enable.\n",
              "      </output>\n",
              "      <script src=\"/nbextensions/google.colab/files.js\"></script> "
            ],
            "text/plain": [
              "<IPython.core.display.HTML object>"
            ]
          },
          "metadata": {}
        },
        {
          "output_type": "execute_result",
          "data": {
            "text/plain": [
              "{}"
            ]
          },
          "metadata": {},
          "execution_count": 1
        }
      ]
    },
    {
      "cell_type": "code",
      "metadata": {
        "colab": {
          "base_uri": "https://localhost:8080/"
        },
        "id": "47I9LYjwxF4v",
        "outputId": "b765b5e8-eb35-4f30-b85c-7609b08ce8bd"
      },
      "source": [
        "!pip install ipython-autotime\n",
        "%load_ext autotime"
      ],
      "execution_count": null,
      "outputs": [
        {
          "output_type": "stream",
          "name": "stdout",
          "text": [
            "Requirement already satisfied: ipython-autotime in /usr/local/lib/python3.7/dist-packages (0.3.1)\n",
            "Requirement already satisfied: ipython in /usr/local/lib/python3.7/dist-packages (from ipython-autotime) (5.5.0)\n",
            "Requirement already satisfied: simplegeneric>0.8 in /usr/local/lib/python3.7/dist-packages (from ipython->ipython-autotime) (0.8.1)\n",
            "Requirement already satisfied: traitlets>=4.2 in /usr/local/lib/python3.7/dist-packages (from ipython->ipython-autotime) (5.1.1)\n",
            "Requirement already satisfied: pexpect in /usr/local/lib/python3.7/dist-packages (from ipython->ipython-autotime) (4.8.0)\n",
            "Requirement already satisfied: setuptools>=18.5 in /usr/local/lib/python3.7/dist-packages (from ipython->ipython-autotime) (57.4.0)\n",
            "Requirement already satisfied: pygments in /usr/local/lib/python3.7/dist-packages (from ipython->ipython-autotime) (2.6.1)\n",
            "Requirement already satisfied: decorator in /usr/local/lib/python3.7/dist-packages (from ipython->ipython-autotime) (4.4.2)\n",
            "Requirement already satisfied: prompt-toolkit<2.0.0,>=1.0.4 in /usr/local/lib/python3.7/dist-packages (from ipython->ipython-autotime) (1.0.18)\n",
            "Requirement already satisfied: pickleshare in /usr/local/lib/python3.7/dist-packages (from ipython->ipython-autotime) (0.7.5)\n",
            "Requirement already satisfied: six>=1.9.0 in /usr/local/lib/python3.7/dist-packages (from prompt-toolkit<2.0.0,>=1.0.4->ipython->ipython-autotime) (1.15.0)\n",
            "Requirement already satisfied: wcwidth in /usr/local/lib/python3.7/dist-packages (from prompt-toolkit<2.0.0,>=1.0.4->ipython->ipython-autotime) (0.2.5)\n",
            "Requirement already satisfied: ptyprocess>=0.5 in /usr/local/lib/python3.7/dist-packages (from pexpect->ipython->ipython-autotime) (0.7.0)\n",
            "time: 297 µs (started: 2021-11-11 01:32:17 +00:00)\n"
          ]
        }
      ]
    },
    {
      "cell_type": "code",
      "metadata": {
        "colab": {
          "base_uri": "https://localhost:8080/"
        },
        "id": "bjTj53_LUgk9",
        "outputId": "2cadb193-3225-4d1e-cae1-f62789b7ba15"
      },
      "source": [
        "pip install sentencepiece"
      ],
      "execution_count": null,
      "outputs": [
        {
          "output_type": "stream",
          "name": "stdout",
          "text": [
            "Requirement already satisfied: sentencepiece in /usr/local/lib/python3.7/dist-packages (0.1.96)\n",
            "time: 3.13 s (started: 2021-11-11 01:32:19 +00:00)\n"
          ]
        }
      ]
    },
    {
      "cell_type": "code",
      "metadata": {
        "id": "d3jBFvowUkvg",
        "colab": {
          "base_uri": "https://localhost:8080/"
        },
        "outputId": "53b6f3ca-176b-45e9-97bc-eb855148b3ae"
      },
      "source": [
        "import pandas as pd \n",
        "import numpy as np \n",
        "import re\n",
        "import string\n",
        "import os\n",
        "import tensorflow as tf\n",
        "from tensorflow.keras.layers import Dense, Input\n",
        "from tensorflow.keras.optimizers import Adam\n",
        "from tensorflow.keras.losses import BinaryCrossentropy, CategoricalCrossentropy, SparseCategoricalCrossentropy\n",
        "from tensorflow.keras.models import Model\n",
        "from tensorflow.keras.callbacks import ModelCheckpoint\n",
        "import tensorflow_hub as hub\n",
        "from tensorflow.keras.preprocessing.text import Tokenizer\n",
        "from tensorflow.keras.preprocessing.sequence import pad_sequences\n",
        "from tensorflow.keras.layers import Embedding, Dense, Dropout, Bidirectional, TimeDistributed, LSTM, Concatenate\n",
        "from tensorflow.keras.metrics import AUC\n",
        "from sklearn.preprocessing import LabelEncoder\n",
        "from sklearn.model_selection import train_test_split\n",
        "from sklearn.metrics import f1_score, roc_auc_score"
      ],
      "execution_count": null,
      "outputs": [
        {
          "output_type": "stream",
          "name": "stdout",
          "text": [
            "time: 2.76 s (started: 2021-11-11 01:32:22 +00:00)\n"
          ]
        }
      ]
    },
    {
      "cell_type": "code",
      "metadata": {
        "colab": {
          "base_uri": "https://localhost:8080/",
          "height": 436
        },
        "id": "dZL3-h9_Upzw",
        "outputId": "ae3fd8a7-ca86-4e96-ef9c-2270240d24bc"
      },
      "source": [
        "mtd_df = pd.read_csv(\"full_disaster_df.csv\", engine = 'python', encoding = 'utf-8')\n",
        "#mtd_df = pd.read_csv(\"multi_task_disasters.csv\", engine = 'python', encoding = 'utf-8')\n",
        "mtd_df[mtd_df['Disaster_or_not'].isnull() == True]\n",
        "mtd_df = mtd_df.sample(frac = 1)\n",
        "mtd_df.fillna(\"None\", inplace = True)\n",
        "mtd_df"
      ],
      "execution_count": null,
      "outputs": [
        {
          "output_type": "execute_result",
          "data": {
            "text/html": [
              "<div>\n",
              "<style scoped>\n",
              "    .dataframe tbody tr th:only-of-type {\n",
              "        vertical-align: middle;\n",
              "    }\n",
              "\n",
              "    .dataframe tbody tr th {\n",
              "        vertical-align: top;\n",
              "    }\n",
              "\n",
              "    .dataframe thead th {\n",
              "        text-align: right;\n",
              "    }\n",
              "</style>\n",
              "<table border=\"1\" class=\"dataframe\">\n",
              "  <thead>\n",
              "    <tr style=\"text-align: right;\">\n",
              "      <th></th>\n",
              "      <th>tweet_texts</th>\n",
              "      <th>Disaster_or_not</th>\n",
              "      <th>Category</th>\n",
              "      <th>source_name</th>\n",
              "      <th>tweet_id</th>\n",
              "      <th>post_time</th>\n",
              "    </tr>\n",
              "  </thead>\n",
              "  <tbody>\n",
              "    <tr>\n",
              "      <th>7019</th>\n",
              "      <td>This Aerial Photo Shows What Wildfires Did to ...</td>\n",
              "      <td>1</td>\n",
              "      <td>Fire</td>\n",
              "      <td>None</td>\n",
              "      <td>None</td>\n",
              "      <td>None</td>\n",
              "    </tr>\n",
              "    <tr>\n",
              "      <th>10298</th>\n",
              "      <td>TONIGHT: California homes and business destroy...</td>\n",
              "      <td>1</td>\n",
              "      <td>Fire</td>\n",
              "      <td>None</td>\n",
              "      <td>None</td>\n",
              "      <td>None</td>\n",
              "    </tr>\n",
              "    <tr>\n",
              "      <th>10883</th>\n",
              "      <td>Tsunami Info Stmt: M5.1 020mi NW Atka Village,...</td>\n",
              "      <td>0</td>\n",
              "      <td>None</td>\n",
              "      <td>NWS_NTWC</td>\n",
              "      <td>9.46397e+17</td>\n",
              "      <td>2017-12-28 15:05:25</td>\n",
              "    </tr>\n",
              "    <tr>\n",
              "      <th>3979</th>\n",
              "      <td>It took me about 2 hours to get outta this flo...</td>\n",
              "      <td>1</td>\n",
              "      <td>Flood</td>\n",
              "      <td>None</td>\n",
              "      <td>None</td>\n",
              "      <td>None</td>\n",
              "    </tr>\n",
              "    <tr>\n",
              "      <th>14464</th>\n",
              "      <td>#DixieFire Cont.</td>\n",
              "      <td>0</td>\n",
              "      <td>None</td>\n",
              "      <td>CAL_FIRE</td>\n",
              "      <td>1.42115e+18</td>\n",
              "      <td>2021-07-30 17:00:03</td>\n",
              "    </tr>\n",
              "    <tr>\n",
              "      <th>...</th>\n",
              "      <td>...</td>\n",
              "      <td>...</td>\n",
              "      <td>...</td>\n",
              "      <td>...</td>\n",
              "      <td>...</td>\n",
              "      <td>...</td>\n",
              "    </tr>\n",
              "    <tr>\n",
              "      <th>12840</th>\n",
              "      <td>Signs of spring are in the weather today, with...</td>\n",
              "      <td>0</td>\n",
              "      <td>None</td>\n",
              "      <td>NWS</td>\n",
              "      <td>1.36895e+18</td>\n",
              "      <td>2021-03-08 15:23:32</td>\n",
              "    </tr>\n",
              "    <tr>\n",
              "      <th>7177</th>\n",
              "      <td>Kevin-Prince Boateng expected to sign for Eint...</td>\n",
              "      <td>0</td>\n",
              "      <td>None</td>\n",
              "      <td>None</td>\n",
              "      <td>None</td>\n",
              "      <td>None</td>\n",
              "    </tr>\n",
              "    <tr>\n",
              "      <th>12403</th>\n",
              "      <td>Tsunami Info Stmt: M4.0 045Mi NE Fajardo, Puer...</td>\n",
              "      <td>0</td>\n",
              "      <td>None</td>\n",
              "      <td>NWS_NTWC</td>\n",
              "      <td>7.53417e+17</td>\n",
              "      <td>2016-07-14 2:34:12</td>\n",
              "    </tr>\n",
              "    <tr>\n",
              "      <th>10188</th>\n",
              "      <td>#news #jtimberlake JT Holds Biggest Concert in...</td>\n",
              "      <td>0</td>\n",
              "      <td>None</td>\n",
              "      <td>None</td>\n",
              "      <td>None</td>\n",
              "      <td>None</td>\n",
              "    </tr>\n",
              "    <tr>\n",
              "      <th>6220</th>\n",
              "      <td>You have to confirm there will not earthquake....</td>\n",
              "      <td>0</td>\n",
              "      <td>None</td>\n",
              "      <td>None</td>\n",
              "      <td>None</td>\n",
              "      <td>None</td>\n",
              "    </tr>\n",
              "  </tbody>\n",
              "</table>\n",
              "<p>14837 rows × 6 columns</p>\n",
              "</div>"
            ],
            "text/plain": [
              "                                             tweet_texts  ...            post_time\n",
              "7019   This Aerial Photo Shows What Wildfires Did to ...  ...                 None\n",
              "10298  TONIGHT: California homes and business destroy...  ...                 None\n",
              "10883  Tsunami Info Stmt: M5.1 020mi NW Atka Village,...  ...  2017-12-28 15:05:25\n",
              "3979   It took me about 2 hours to get outta this flo...  ...                 None\n",
              "14464                                  #DixieFire Cont.   ...  2021-07-30 17:00:03\n",
              "...                                                  ...  ...                  ...\n",
              "12840  Signs of spring are in the weather today, with...  ...  2021-03-08 15:23:32\n",
              "7177   Kevin-Prince Boateng expected to sign for Eint...  ...                 None\n",
              "12403  Tsunami Info Stmt: M4.0 045Mi NE Fajardo, Puer...  ...   2016-07-14 2:34:12\n",
              "10188  #news #jtimberlake JT Holds Biggest Concert in...  ...                 None\n",
              "6220   You have to confirm there will not earthquake....  ...                 None\n",
              "\n",
              "[14837 rows x 6 columns]"
            ]
          },
          "metadata": {},
          "execution_count": 5
        },
        {
          "output_type": "stream",
          "name": "stdout",
          "text": [
            "time: 271 ms (started: 2021-11-11 01:32:26 +00:00)\n"
          ]
        }
      ]
    },
    {
      "cell_type": "code",
      "metadata": {
        "id": "6p6l116rUyN-",
        "colab": {
          "base_uri": "https://localhost:8080/"
        },
        "outputId": "3806fc24-52cd-4fc9-b6c2-62eb7c506850"
      },
      "source": [
        "def data_preprocess(train_df):\n",
        "\n",
        "  def remove_emoji(text):\n",
        "    emoji = re.compile(\"[\"\n",
        "                        u\"\\U0001F600-\\U0001F64F\"  \n",
        "                        u\"\\U0001F300-\\U0001F5FF\"  \n",
        "                        u\"\\U0001F680-\\U0001F6FF\"  \n",
        "                        u\"\\U0001F1E0-\\U0001F1FF\"  \n",
        "                        u\"\\U00002702-\\U000027B0\"\n",
        "                        u\"\\U000024C2-\\U0001F251\"\n",
        "                        \"]+\", flags = re.UNICODE)\n",
        "    return emoji.sub(r'', text)\n",
        "  \n",
        "  def remove_punct(text):\n",
        "    mapping = str.maketrans('', '', string.punctuation)\n",
        "    return text.translate(mapping)\n",
        "  \n",
        "  def remove_links(text):\n",
        "    text = ''.join([x for x in text if x in string.printable])\n",
        "    text = re.sub(r'https?://\\S+|www\\.\\S+', \"\", text)\n",
        "    return text\n",
        "\n",
        "\n",
        "  train_df['tweet_texts'] = train_df['tweet_texts'].apply(lambda x: remove_emoji(x))\n",
        "  train_df['tweet_texts'] = train_df['tweet_texts'].apply(lambda x: remove_punct(x))\n",
        "  train_df['tweet_texts'] = train_df['tweet_texts'].apply(lambda x: remove_links(x))\n",
        "  train_df['tweet_texts'] = train_df['tweet_texts'].apply(lambda x: str(x).lower())\n",
        "  return train_df"
      ],
      "execution_count": null,
      "outputs": [
        {
          "output_type": "stream",
          "name": "stdout",
          "text": [
            "time: 16.7 ms (started: 2021-11-11 01:32:26 +00:00)\n"
          ]
        }
      ]
    },
    {
      "cell_type": "code",
      "metadata": {
        "id": "mUCK6TZwU1ID",
        "colab": {
          "base_uri": "https://localhost:8080/"
        },
        "outputId": "ed147e07-76f1-4ef5-86e6-9a68c5989ad5"
      },
      "source": [
        "mtd_df = data_preprocess(mtd_df)"
      ],
      "execution_count": null,
      "outputs": [
        {
          "output_type": "stream",
          "name": "stdout",
          "text": [
            "time: 456 ms (started: 2021-11-11 01:32:26 +00:00)\n"
          ]
        }
      ]
    },
    {
      "cell_type": "code",
      "metadata": {
        "id": "dZEtpRWvU3Ye",
        "colab": {
          "base_uri": "https://localhost:8080/"
        },
        "outputId": "12d90416-a69b-4625-9bef-04186d2148ec"
      },
      "source": [
        "def bert_encode(text_inputs, tokenizer, max_length = 128):\n",
        "  tokens = []\n",
        "  masks = []\n",
        "  segments = []\n",
        "\n",
        "  for text in text_inputs:\n",
        "    text = tokenizer.tokenize(text)\n",
        "    text = text[:max_length - 2]\n",
        "    bert_input = [\"[CLS]\"] + text + [\"[SEP]\"]\n",
        "    padding_length = max_length - len(bert_input)\n",
        "    padding = [0] * padding_length\n",
        "\n",
        "    token = tokenizer.convert_tokens_to_ids(bert_input)\n",
        "    token += padding\n",
        "    mask = [1] * len(bert_input) + padding\n",
        "    segment = [0] * max_length\n",
        "\n",
        "    tokens.append(token)\n",
        "    masks.append(mask)\n",
        "    segments.append(segment)\n",
        "\n",
        "  return np.array(tokens), np.array(masks), np.array(segments)"
      ],
      "execution_count": null,
      "outputs": [
        {
          "output_type": "stream",
          "name": "stdout",
          "text": [
            "time: 18.8 ms (started: 2021-11-11 01:32:27 +00:00)\n"
          ]
        }
      ]
    },
    {
      "cell_type": "code",
      "metadata": {
        "id": "mX5NWesZWlLx",
        "colab": {
          "base_uri": "https://localhost:8080/"
        },
        "outputId": "7bc4a933-9824-4c07-8d40-358f87ba57b6"
      },
      "source": [
        "module_url = \"https://tfhub.dev/tensorflow/bert_en_uncased_L-12_H-768_A-12/1\"\n",
        "bert_layer = hub.KerasLayer(module_url, trainable=True)"
      ],
      "execution_count": null,
      "outputs": [
        {
          "output_type": "stream",
          "name": "stdout",
          "text": [
            "time: 11.5 s (started: 2021-11-11 01:32:27 +00:00)\n"
          ]
        }
      ]
    },
    {
      "cell_type": "code",
      "metadata": {
        "id": "4v-FxzO9WGoB",
        "colab": {
          "base_uri": "https://localhost:8080/"
        },
        "outputId": "98b2923b-7e30-48ad-ee3d-e17ef2f2a1ee"
      },
      "source": [
        "y1 = np.array(mtd_df['Disaster_or_not'])\n",
        "# y2 = np.array(mtd_df[mtd_df['Disaster_or_not'] == 1]['Category'])\n",
        "# above: take y2 only if the disaster_or_not == 1\n",
        "y2 = np.array(mtd_df['Category'])\n",
        "\n",
        "label_encoder = LabelEncoder()\n",
        "y1 = label_encoder.fit_transform(y1)\n",
        "classes1 = label_encoder.classes_\n",
        "\n",
        "label_encoder = LabelEncoder()\n",
        "y2 = label_encoder.fit_transform(y2)\n",
        "classes2 = label_encoder.classes_\n",
        "\n",
        "num_of_classes1 = len(classes1)\n",
        "num_of_classes2 = len(classes2)\n",
        "\n",
        "\n",
        "import tokenization\n",
        "#new 2021 tokenization.py underfoler Twitter API\n",
        "#tf.gfile = tf.io.gfile\n",
        "\n",
        "vocab_file = bert_layer.resolved_object.vocab_file.asset_path.numpy()\n",
        "do_lower_case = bert_layer.resolved_object.do_lower_case.numpy()\n",
        "tokenizer = tokenization.FullTokenizer(vocab_file, do_lower_case)\n",
        "\n",
        "#use all data to train:\n",
        "train_input = bert_encode(mtd_df.tweet_texts.values, tokenizer)\n",
        "train_labels_y1 = tf.keras.utils.to_categorical(y1, num_classes=num_of_classes1,dtype = 'int32')\n",
        "train_labels_y2 = tf.keras.utils.to_categorical(y2, num_classes=num_of_classes2,dtype = 'int32')"
      ],
      "execution_count": null,
      "outputs": [
        {
          "output_type": "stream",
          "name": "stdout",
          "text": [
            "time: 7.18 s (started: 2021-11-11 01:32:39 +00:00)\n"
          ]
        }
      ]
    },
    {
      "cell_type": "code",
      "metadata": {
        "id": "44U22pA5Wd9T",
        "colab": {
          "base_uri": "https://localhost:8080/"
        },
        "outputId": "8dca1fab-11e6-4d30-c09f-044e07122b3f"
      },
      "source": [
        "#x_train, x_test, y_train, y_test = train_test_split(mtd_df['tweet_texts'].values, mtd_df[['Disaster_or_not', 'Category']], test_size = 0.25)"
      ],
      "execution_count": null,
      "outputs": [
        {
          "output_type": "stream",
          "name": "stdout",
          "text": [
            "time: 9.8 ms (started: 2021-10-26 23:32:39 +00:00)\n"
          ]
        }
      ]
    },
    {
      "cell_type": "code",
      "metadata": {
        "id": "hAF15kdVWtnQ",
        "colab": {
          "base_uri": "https://localhost:8080/"
        },
        "outputId": "9cc5ae8d-494c-42a5-bd32-c7d22eadaf10"
      },
      "source": [
        "# Train and test set for model evaluation:\n",
        "'''\n",
        "label_encoder = LabelEncoder()\n",
        "y1_train = label_encoder.fit_transform(y_train['Disaster_or_not'])\n",
        "classes1 = label_encoder.classes_\n",
        "y1_test = label_encoder.fit_transform(y_test['Disaster_or_not'])\n",
        "\n",
        "label_encoder = LabelEncoder()\n",
        "y2_train = label_encoder.fit_transform(y_train['Category'])\n",
        "classes2 = label_encoder.classes_\n",
        "y2_test = label_encoder.fit_transform(y_test['Category'])\n",
        "\n",
        "num_of_classes1 = len(classes1)\n",
        "num_of_classes2 = len(classes2)\n",
        "\n",
        "\n",
        "x_train = bert_encode(x_train, tokenizer)\n",
        "x_test = bert_encode(x_test, tokenizer)\n",
        "\n",
        "y1_train = tf.keras.utils.to_categorical(y1_train, num_classes = num_of_classes1,dtype = 'int32')\n",
        "y1_test = tf.keras.utils.to_categorical(y1_test, num_classes = num_of_classes1,dtype = 'int32')\n",
        "y2_train = tf.keras.utils.to_categorical(y2_train, num_classes = num_of_classes2, dtype = 'int32')\n",
        "y2_test = tf.keras.utils.to_categorical(y2_test, num_classes = num_of_classes2, dtype = 'int32')\n",
        "'''"
      ],
      "execution_count": null,
      "outputs": [
        {
          "output_type": "stream",
          "name": "stdout",
          "text": [
            "time: 5.95 s (started: 2021-10-26 23:32:39 +00:00)\n"
          ]
        }
      ]
    },
    {
      "cell_type": "code",
      "metadata": {
        "id": "AsuTllVgWxRT",
        "colab": {
          "base_uri": "https://localhost:8080/"
        },
        "outputId": "d142ac80-e902-4bfb-b95d-bc0f945d27ed"
      },
      "source": [
        "def bert_model(bert_layer, max_length = 128):\n",
        "\n",
        "  word_ids = Input(shape = (max_length,), dtype = tf.int32, name = \"input_word_ids\")\n",
        "  masks = Input(shape = (max_length,), dtype = tf.int32, name = \"input_masks\")\n",
        "  segments = Input(shape = (max_length,), dtype = tf.int32, name = \"input_segments\")\n",
        "  pooled_output, sequence_output = bert_layer([word_ids, masks, segments])\n",
        " \n",
        "  #shared = Dense(64, activation = 'relu', name = \"shared_bert_layer\")(sequence_output[:,0,:])\n",
        "  shared = Dense(64, activation = 'relu', name = \"shared_bert_layer\")(pooled_output)\n",
        "\n",
        "  sub1 = Dense(32, activation = 'relu', name = \"isDisaster_layer\")(shared)\n",
        "  sub1 = Dropout(0.2)(sub1)\n",
        "\n",
        "  sub2 = Dense(32, activation = 'relu', name = \"categories_layer\")(shared)\n",
        "  sub2 = Dropout(0.2)(sub2)\n",
        "\n",
        "  out1 = Dense(num_of_classes1, activation = 'sigmoid', name = \"isDisaster_layer_out\")(sub1)\n",
        "  out2 = Dense(num_of_classes2, activation = 'softmax', name = \"categories_layer_out\")(sub2)\n",
        "\n",
        "  model = Model(inputs = [word_ids, masks, segments], outputs = [out1, out2])\n",
        "\n",
        "  loss1 = BinaryCrossentropy()\n",
        "  loss2 = CategoricalCrossentropy()\n",
        "\n",
        "  optimizer = Adam(learning_rate = 5e-5, epsilon = 1e-8, clipnorm = 1)\n",
        "  #6e-6\n",
        "  model.compile(optimizer = optimizer, loss = {'isDisaster_layer_out': loss1, 'categories_layer_out': loss2}, \n",
        "                metrics = ['accuracy', AUC(from_logits=True)])\n",
        "  return model"
      ],
      "execution_count": null,
      "outputs": [
        {
          "output_type": "stream",
          "name": "stdout",
          "text": [
            "time: 31.1 ms (started: 2021-11-11 01:32:51 +00:00)\n"
          ]
        }
      ]
    },
    {
      "cell_type": "code",
      "metadata": {
        "colab": {
          "base_uri": "https://localhost:8080/"
        },
        "id": "rLpVOREIXVcS",
        "outputId": "c54c4298-a449-4f97-a5b9-d6ad17591668"
      },
      "source": [
        "model = bert_model(bert_layer)\n",
        "model.summary()"
      ],
      "execution_count": null,
      "outputs": [
        {
          "output_type": "stream",
          "name": "stdout",
          "text": [
            "Model: \"model\"\n",
            "__________________________________________________________________________________________________\n",
            " Layer (type)                   Output Shape         Param #     Connected to                     \n",
            "==================================================================================================\n",
            " input_word_ids (InputLayer)    [(None, 128)]        0           []                               \n",
            "                                                                                                  \n",
            " input_masks (InputLayer)       [(None, 128)]        0           []                               \n",
            "                                                                                                  \n",
            " input_segments (InputLayer)    [(None, 128)]        0           []                               \n",
            "                                                                                                  \n",
            " keras_layer (KerasLayer)       [(None, 768),        109482241   ['input_word_ids[0][0]',         \n",
            "                                 (None, 128, 768)]                'input_masks[0][0]',            \n",
            "                                                                  'input_segments[0][0]']         \n",
            "                                                                                                  \n",
            " shared_bert_layer (Dense)      (None, 64)           49216       ['keras_layer[0][0]']            \n",
            "                                                                                                  \n",
            " isDisaster_layer (Dense)       (None, 32)           2080        ['shared_bert_layer[0][0]']      \n",
            "                                                                                                  \n",
            " categories_layer (Dense)       (None, 32)           2080        ['shared_bert_layer[0][0]']      \n",
            "                                                                                                  \n",
            " dropout (Dropout)              (None, 32)           0           ['isDisaster_layer[0][0]']       \n",
            "                                                                                                  \n",
            " dropout_1 (Dropout)            (None, 32)           0           ['categories_layer[0][0]']       \n",
            "                                                                                                  \n",
            " isDisaster_layer_out (Dense)   (None, 2)            66          ['dropout[0][0]']                \n",
            "                                                                                                  \n",
            " categories_layer_out (Dense)   (None, 10)           330         ['dropout_1[0][0]']              \n",
            "                                                                                                  \n",
            "==================================================================================================\n",
            "Total params: 109,536,013\n",
            "Trainable params: 109,536,012\n",
            "Non-trainable params: 1\n",
            "__________________________________________________________________________________________________\n",
            "time: 1.06 s (started: 2021-11-11 01:32:54 +00:00)\n"
          ]
        }
      ]
    },
    {
      "cell_type": "code",
      "metadata": {
        "colab": {
          "base_uri": "https://localhost:8080/"
        },
        "id": "ydby_HM-Xck5",
        "outputId": "950fd112-77e1-4c48-c727-68a3d0cabf56"
      },
      "source": [
        "validation_split = 0.2\n",
        "epochs = 7\n",
        "batch_size = 16\n",
        "\n",
        "#full data to train:\n",
        "train_history = model.fit(train_input, [train_labels_y1, train_labels_y2], validation_split = validation_split, epochs = epochs, batch_size = batch_size)\n",
        "\n",
        "#train test set:\n",
        "#train_history = model.fit(x_train, [y1_train, y2_train], validation_split = validation_split, epochs = epochs, batch_size = batch_size)"
      ],
      "execution_count": null,
      "outputs": [
        {
          "output_type": "stream",
          "name": "stdout",
          "text": [
            "Epoch 1/7\n",
            "742/742 [==============================] - 680s 879ms/step - loss: 0.9942 - isDisaster_layer_out_loss: 0.3612 - categories_layer_out_loss: 0.6330 - isDisaster_layer_out_accuracy: 0.8419 - isDisaster_layer_out_auc: 0.9199 - categories_layer_out_accuracy: 0.8089 - categories_layer_out_auc: 0.9725 - val_loss: 0.6000 - val_isDisaster_layer_out_loss: 0.2623 - val_categories_layer_out_loss: 0.3377 - val_isDisaster_layer_out_accuracy: 0.8784 - val_isDisaster_layer_out_auc: 0.9577 - val_categories_layer_out_accuracy: 0.8716 - val_categories_layer_out_auc: 0.9920\n",
            "Epoch 2/7\n",
            "742/742 [==============================] - 651s 878ms/step - loss: 0.5642 - isDisaster_layer_out_loss: 0.2316 - categories_layer_out_loss: 0.3326 - isDisaster_layer_out_accuracy: 0.9028 - isDisaster_layer_out_auc: 0.9671 - categories_layer_out_accuracy: 0.8878 - categories_layer_out_auc: 0.9904 - val_loss: 0.6163 - val_isDisaster_layer_out_loss: 0.2739 - val_categories_layer_out_loss: 0.3424 - val_isDisaster_layer_out_accuracy: 0.8844 - val_isDisaster_layer_out_auc: 0.9574 - val_categories_layer_out_accuracy: 0.8801 - val_categories_layer_out_auc: 0.9898\n",
            "Epoch 3/7\n",
            "742/742 [==============================] - 651s 878ms/step - loss: 0.3967 - isDisaster_layer_out_loss: 0.1672 - categories_layer_out_loss: 0.2294 - isDisaster_layer_out_accuracy: 0.9321 - isDisaster_layer_out_auc: 0.9825 - categories_layer_out_accuracy: 0.9192 - categories_layer_out_auc: 0.9942 - val_loss: 0.6156 - val_isDisaster_layer_out_loss: 0.2790 - val_categories_layer_out_loss: 0.3366 - val_isDisaster_layer_out_accuracy: 0.8865 - val_isDisaster_layer_out_auc: 0.9562 - val_categories_layer_out_accuracy: 0.8885 - val_categories_layer_out_auc: 0.9890\n",
            "Epoch 4/7\n",
            "742/742 [==============================] - 650s 876ms/step - loss: 0.2990 - isDisaster_layer_out_loss: 0.1274 - categories_layer_out_loss: 0.1716 - isDisaster_layer_out_accuracy: 0.9521 - isDisaster_layer_out_auc: 0.9899 - categories_layer_out_accuracy: 0.9440 - categories_layer_out_auc: 0.9966 - val_loss: 0.9087 - val_isDisaster_layer_out_loss: 0.4035 - val_categories_layer_out_loss: 0.5052 - val_isDisaster_layer_out_accuracy: 0.8902 - val_isDisaster_layer_out_auc: 0.9476 - val_categories_layer_out_accuracy: 0.8858 - val_categories_layer_out_auc: 0.9784\n",
            "Epoch 5/7\n",
            "742/742 [==============================] - 651s 877ms/step - loss: 0.2383 - isDisaster_layer_out_loss: 0.1005 - categories_layer_out_loss: 0.1378 - isDisaster_layer_out_accuracy: 0.9655 - isDisaster_layer_out_auc: 0.9933 - categories_layer_out_accuracy: 0.9577 - categories_layer_out_auc: 0.9973 - val_loss: 0.9428 - val_isDisaster_layer_out_loss: 0.4036 - val_categories_layer_out_loss: 0.5392 - val_isDisaster_layer_out_accuracy: 0.8807 - val_isDisaster_layer_out_auc: 0.9462 - val_categories_layer_out_accuracy: 0.8737 - val_categories_layer_out_auc: 0.9757\n",
            "Epoch 6/7\n",
            "742/742 [==============================] - 649s 875ms/step - loss: 0.2041 - isDisaster_layer_out_loss: 0.0843 - categories_layer_out_loss: 0.1198 - isDisaster_layer_out_accuracy: 0.9725 - isDisaster_layer_out_auc: 0.9947 - categories_layer_out_accuracy: 0.9653 - categories_layer_out_auc: 0.9972 - val_loss: 0.9907 - val_isDisaster_layer_out_loss: 0.4259 - val_categories_layer_out_loss: 0.5648 - val_isDisaster_layer_out_accuracy: 0.8865 - val_isDisaster_layer_out_auc: 0.9450 - val_categories_layer_out_accuracy: 0.8834 - val_categories_layer_out_auc: 0.9777\n",
            "Epoch 7/7\n",
            "742/742 [==============================] - 652s 878ms/step - loss: 0.1757 - isDisaster_layer_out_loss: 0.0733 - categories_layer_out_loss: 0.1023 - isDisaster_layer_out_accuracy: 0.9778 - isDisaster_layer_out_auc: 0.9953 - categories_layer_out_accuracy: 0.9722 - categories_layer_out_auc: 0.9978 - val_loss: 1.0186 - val_isDisaster_layer_out_loss: 0.4415 - val_categories_layer_out_loss: 0.5771 - val_isDisaster_layer_out_accuracy: 0.8892 - val_isDisaster_layer_out_auc: 0.9439 - val_categories_layer_out_accuracy: 0.8834 - val_categories_layer_out_auc: 0.9762\n",
            "time: 1h 16min 24s (started: 2021-11-11 01:32:56 +00:00)\n"
          ]
        }
      ]
    },
    {
      "cell_type": "code",
      "metadata": {
        "id": "8cfaZE3CXhLn",
        "colab": {
          "base_uri": "https://localhost:8080/"
        },
        "outputId": "6aa1d3c3-aa3c-4a14-a797-d8076ca7677d"
      },
      "source": [
        "pred_results = []\n",
        "true_results = []\n",
        "for index in range(len(x_test[0])):\n",
        "  input = np.array([x_test[0][index]]), np.array([x_test[1][index]]), np.array([x_test[2][index]])\n",
        "  pred = model.predict(input)\n",
        "  temp_pred_res = [ int(np.argmax(pred[0], axis = 1)), int(np.argmax(pred[1], axis = 1)) ] \n",
        "  pred_results.append(temp_pred_res)\n",
        "  true_results.append([ np.argmax(y1_test[index], axis = 0), np.argmax(y2_test[index], axis = 0) ])"
      ],
      "execution_count": null,
      "outputs": [
        {
          "output_type": "stream",
          "name": "stdout",
          "text": [
            "time: 3min 7s (started: 2021-10-26 23:41:25 +00:00)\n"
          ]
        }
      ]
    },
    {
      "cell_type": "code",
      "metadata": {
        "colab": {
          "base_uri": "https://localhost:8080/"
        },
        "id": "3NqtAq7oATYr",
        "outputId": "d7f88ee2-5bbd-4711-acdc-f88121390b0d"
      },
      "source": [
        "y2_pre = []\n",
        "y2_true = []\n",
        "for item in pred_results:\n",
        "  y2_pre.append(item[1])\n",
        "for item in true_results:\n",
        "  y2_true.append(item[1])\n",
        "\n",
        "\n",
        "y1_pre = []\n",
        "y1_true = []\n",
        "for item in pred_results:\n",
        "  y1_pre.append(item[0])\n",
        "for item in true_results:\n",
        "  y1_true.append(item[0])"
      ],
      "execution_count": null,
      "outputs": [
        {
          "output_type": "stream",
          "name": "stdout",
          "text": [
            "time: 10.9 ms (started: 2021-10-26 23:51:38 +00:00)\n"
          ]
        }
      ]
    },
    {
      "cell_type": "code",
      "metadata": {
        "colab": {
          "base_uri": "https://localhost:8080/"
        },
        "id": "eXcvqnzj8ssM",
        "outputId": "11ce1c80-e06b-4db7-a2d6-8e073ff4b591"
      },
      "source": [
        "print(\"micro\", f1_score(y2_true, y2_pre, average='micro'))\n",
        "print(\"micro\", f1_score(y1_true, y1_pre, average='micro'))"
      ],
      "execution_count": null,
      "outputs": [
        {
          "output_type": "stream",
          "name": "stdout",
          "text": [
            "micro 0.8703504043126684\n",
            "micro 0.876010781671159\n",
            "time: 16.3 ms (started: 2021-10-26 23:51:53 +00:00)\n"
          ]
        }
      ]
    },
    {
      "cell_type": "code",
      "metadata": {
        "id": "TqK8QHmIbWwx",
        "colab": {
          "base_uri": "https://localhost:8080/"
        },
        "outputId": "d0b0dbab-f262-4ca1-b659-437a3b99a736"
      },
      "source": [
        "from sklearn.preprocessing import MultiLabelBinarizer\n",
        "\n",
        "m = MultiLabelBinarizer().fit(true_results)\n",
        "\n",
        "print(\"macro:\", f1_score(m.transform(true_results), m.transform(pred_results), average='macro'))\n",
        "\n",
        "print(\"micro\", f1_score(m.transform(true_results), m.transform(pred_results), average='micro'))"
      ],
      "execution_count": null,
      "outputs": [
        {
          "output_type": "stream",
          "name": "stdout",
          "text": [
            "macro: 0.7638653455058909\n",
            "micro 0.8792685460968345\n",
            "time: 40.8 ms (started: 2021-10-22 07:05:16 +00:00)\n"
          ]
        }
      ]
    },
    {
      "cell_type": "code",
      "metadata": {
        "id": "Pqitk9B1bbIk",
        "colab": {
          "base_uri": "https://localhost:8080/"
        },
        "outputId": "836e9a63-882d-490e-8a01-5e263bf35e4f"
      },
      "source": [
        "#test_str = [\"tornado threats from nicholas should remain low tonight across and inland of mid and upper texas coastal areas\"]\n",
        "test_str = ['hopkinsfire off hopkins st and north state st near calpella in mendocino county']\n",
        "test_str_input = bert_encode(test_str, tokenizer)\n",
        "pre = model.predict(test_str_input)\n",
        "print(pre)\n",
        "#pre_class = np.argmax(pre, axis = 1)\n",
        "#print(pre_class)\n",
        "disaster_1_0_label = np.argmax(pre[0], axis = 1)\n",
        "print(classes1[disaster_1_0_label])\n",
        "category_label = np.argmax(pre[1], axis = 1)\n",
        "print(classes2[category_label])"
      ],
      "execution_count": null,
      "outputs": [
        {
          "output_type": "stream",
          "name": "stdout",
          "text": [
            "[array([[0.01357793, 0.9859977 ]], dtype=float32), array([[1.3285073e-05, 1.3139224e-04, 9.9132127e-01, 1.1875490e-05,\n",
            "        1.7556142e-05, 8.3728041e-03, 4.5029185e-05, 4.6102912e-05,\n",
            "        2.9212797e-05, 1.1604942e-05]], dtype=float32)]\n",
            "[1]\n",
            "['Fire']\n",
            "time: 107 ms (started: 2021-11-09 00:43:35 +00:00)\n"
          ]
        }
      ]
    },
    {
      "cell_type": "code",
      "metadata": {
        "id": "pz_xsVCyUFbc",
        "colab": {
          "base_uri": "https://localhost:8080/"
        },
        "outputId": "be3de2dc-8f4b-41c6-b0a3-eddbab8c790c"
      },
      "source": [
        "model.save(\"bert_multi_task_1.h5\")"
      ],
      "execution_count": null,
      "outputs": [
        {
          "output_type": "stream",
          "name": "stdout",
          "text": [
            "time: 6.68 s (started: 2021-11-09 00:44:02 +00:00)\n"
          ]
        }
      ]
    },
    {
      "cell_type": "code",
      "metadata": {
        "colab": {
          "base_uri": "https://localhost:8080/"
        },
        "id": "MTcGgdMCJrws",
        "outputId": "8fbfc18e-8512-43b9-cfee-83ca393c8f6e"
      },
      "source": [
        "model.save('saved_model/my_model')"
      ],
      "execution_count": null,
      "outputs": [
        {
          "output_type": "stream",
          "name": "stderr",
          "text": [
            "WARNING:absl:Found untraced functions such as restored_function_body, restored_function_body, restored_function_body, restored_function_body, restored_function_body while saving (showing 5 of 815). These functions will not be directly callable after loading.\n"
          ]
        },
        {
          "output_type": "stream",
          "name": "stdout",
          "text": [
            "INFO:tensorflow:Assets written to: saved_model/my_model/assets\n"
          ]
        },
        {
          "output_type": "stream",
          "name": "stderr",
          "text": [
            "INFO:tensorflow:Assets written to: saved_model/my_model/assets\n"
          ]
        },
        {
          "output_type": "stream",
          "name": "stdout",
          "text": [
            "time: 23.4 s (started: 2021-11-09 00:44:42 +00:00)\n"
          ]
        }
      ]
    },
    {
      "cell_type": "code",
      "metadata": {
        "colab": {
          "base_uri": "https://localhost:8080/"
        },
        "id": "MpKAooUP3wql",
        "outputId": "9c42d2aa-dddb-4882-8f69-ba4fe761e4dd"
      },
      "source": [
        "saved_model = tf.keras.models.load_model('bert_multi_task.h5', custom_objects={\"KerasLayer\": hub.KerasLayer})"
      ],
      "execution_count": null,
      "outputs": [
        {
          "output_type": "stream",
          "name": "stdout",
          "text": [
            "time: 10.6 s (started: 2021-10-15 02:55:36 +00:00)\n"
          ]
        }
      ]
    },
    {
      "cell_type": "code",
      "metadata": {
        "colab": {
          "base_uri": "https://localhost:8080/"
        },
        "id": "5rYotbnh4FdO",
        "outputId": "c8fa6a61-87c7-43c5-85b7-f8d3d46bbb84"
      },
      "source": [
        "preidct = saved_model.predict(test_str_input)"
      ],
      "execution_count": null,
      "outputs": [
        {
          "output_type": "stream",
          "name": "stdout",
          "text": [
            "time: 1.17 s (started: 2021-10-15 02:56:31 +00:00)\n"
          ]
        }
      ]
    },
    {
      "cell_type": "code",
      "metadata": {
        "colab": {
          "base_uri": "https://localhost:8080/"
        },
        "id": "MJg8iWkQ4TFw",
        "outputId": "8a369746-bd64-4d53-f8cc-6c738836f68e"
      },
      "source": [
        "preidct"
      ],
      "execution_count": null,
      "outputs": [
        {
          "output_type": "execute_result",
          "data": {
            "text/plain": [
              "[array([[0.00583644, 0.99205935]], dtype=float32),\n",
              " array([[1.6407538e-04, 5.3222990e-05, 9.9465513e-01, 4.1503663e-05,\n",
              "         4.1551681e-04, 3.5083636e-03, 1.0112810e-03, 1.1156416e-04,\n",
              "         1.4649227e-05, 2.4700434e-05]], dtype=float32)]"
            ]
          },
          "metadata": {},
          "execution_count": 42
        },
        {
          "output_type": "stream",
          "name": "stdout",
          "text": [
            "time: 8.61 ms (started: 2021-10-15 03:45:32 +00:00)\n"
          ]
        }
      ]
    },
    {
      "cell_type": "code",
      "metadata": {
        "id": "tH-LPFHH4Unv",
        "colab": {
          "base_uri": "https://localhost:8080/"
        },
        "outputId": "aaf83ade-d63b-4570-979d-021cb72ad7bd"
      },
      "source": [
        "print(tf.__version__)"
      ],
      "execution_count": null,
      "outputs": [
        {
          "output_type": "stream",
          "name": "stdout",
          "text": [
            "2.6.0\n"
          ]
        }
      ]
    },
    {
      "cell_type": "code",
      "metadata": {
        "colab": {
          "base_uri": "https://localhost:8080/"
        },
        "id": "ONoYZaXctC5i",
        "outputId": "8bef64e4-8ea5-4ecc-bf70-d9558f21bb42"
      },
      "source": [
        "classes1"
      ],
      "execution_count": null,
      "outputs": [
        {
          "output_type": "execute_result",
          "data": {
            "text/plain": [
              "array([0, 1])"
            ]
          },
          "metadata": {},
          "execution_count": 18
        }
      ]
    },
    {
      "cell_type": "code",
      "metadata": {
        "colab": {
          "base_uri": "https://localhost:8080/"
        },
        "id": "Avj-Ar8h1ovf",
        "outputId": "78f5a8ae-5943-4e4b-9a9d-dbeee38580fb"
      },
      "source": [
        "classes2"
      ],
      "execution_count": null,
      "outputs": [
        {
          "output_type": "execute_result",
          "data": {
            "text/plain": [
              "array(['Blizzard', 'Earthquake', 'Fire', 'Flood', 'Hurricane', 'None',\n",
              "       'Storm', 'Tornado', 'Tsunami', 'Volcano'], dtype=object)"
            ]
          },
          "metadata": {},
          "execution_count": 23
        }
      ]
    },
    {
      "cell_type": "code",
      "metadata": {
        "id": "XSd42W5Yo6Pd"
      },
      "source": [
        "from flask import jsonify"
      ],
      "execution_count": null,
      "outputs": []
    },
    {
      "cell_type": "code",
      "metadata": {
        "id": "e4vCsc0x-rA6",
        "colab": {
          "base_uri": "https://localhost:8080/"
        },
        "outputId": "8942ada9-5752-49b4-aedf-da43afaccf21"
      },
      "source": [
        "res1 = [1, 'Tornado']\n",
        "res2 = [['san', 'jose'], ['california']]\n",
        "locations = [\" \".join(item) for item in res2]\n",
        "print(locations)\n",
        "\n"
      ],
      "execution_count": null,
      "outputs": [
        {
          "output_type": "stream",
          "name": "stdout",
          "text": [
            "['san jose', 'california']\n"
          ]
        }
      ]
    },
    {
      "cell_type": "code",
      "metadata": {
        "id": "9p-sa0JOloxT"
      },
      "source": [
        ""
      ],
      "execution_count": null,
      "outputs": []
    }
  ]
}